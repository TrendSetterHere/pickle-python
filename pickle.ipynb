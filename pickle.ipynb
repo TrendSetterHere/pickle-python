{
 "cells": [
  {
   "cell_type": "markdown",
   "id": "c7b5e2e0",
   "metadata": {},
   "source": [
    "pickle is a module that helps us to store & reproduce data in the same format"
   ]
  },
  {
   "cell_type": "code",
   "execution_count": 2,
   "id": "243d9b73",
   "metadata": {},
   "outputs": [],
   "source": [
    "import pickle"
   ]
  },
  {
   "cell_type": "code",
   "execution_count": 3,
   "id": "69b0d26d",
   "metadata": {},
   "outputs": [],
   "source": [
    "# Pickling a python object \n",
    "\n",
    "cars = [\"Audi\", \"BMW\", \"Maruti Suzuki\"]\n",
    "file = \"mycar.pkl\"\n",
    "fileobj = open(file, 'wb')\n",
    "pickle.dump(cars, fileobj)\n",
    "fileobj.close()\n",
    "\n",
    "# 'dump' stores the data. NOte we first need to create an object --> 'fileobj'"
   ]
  },
  {
   "cell_type": "code",
   "execution_count": 4,
   "id": "b57ba9c7",
   "metadata": {},
   "outputs": [
    {
     "name": "stdout",
     "output_type": "stream",
     "text": [
      "['Audi', 'BMW', 'Maruti Suzuki']\n"
     ]
    }
   ],
   "source": [
    "file = \"mycar.pkl\"\n",
    "fileobj = open(file, 'rb')\n",
    "mycar = pickle.load(fileobj)\n",
    "print(mycar)"
   ]
  },
  {
   "cell_type": "code",
   "execution_count": 5,
   "id": "047090ac",
   "metadata": {},
   "outputs": [
    {
     "name": "stdout",
     "output_type": "stream",
     "text": [
      "<class 'list'>\n"
     ]
    }
   ],
   "source": [
    "print(type(mycar))"
   ]
  },
  {
   "cell_type": "code",
   "execution_count": 6,
   "id": "3157be62",
   "metadata": {},
   "outputs": [
    {
     "name": "stdout",
     "output_type": "stream",
     "text": [
      "['Audi', 'BMW', 'Maruti Suzuki']\n",
      "<class 'list'>\n"
     ]
    }
   ],
   "source": [
    "# de-pickling a python file\n",
    "\n",
    "file = \"mycar.pkl\"\n",
    "fileobj = open(file, 'rb')\n",
    "mycar = pickle.load(fileobj)\n",
    "print(mycar)\n",
    "print(type(mycar))"
   ]
  },
  {
   "cell_type": "code",
   "execution_count": null,
   "id": "db626208",
   "metadata": {},
   "outputs": [],
   "source": []
  }
 ],
 "metadata": {
  "kernelspec": {
   "display_name": "Python 3 (ipykernel)",
   "language": "python",
   "name": "python3"
  },
  "language_info": {
   "codemirror_mode": {
    "name": "ipython",
    "version": 3
   },
   "file_extension": ".py",
   "mimetype": "text/x-python",
   "name": "python",
   "nbconvert_exporter": "python",
   "pygments_lexer": "ipython3",
   "version": "3.9.7"
  }
 },
 "nbformat": 4,
 "nbformat_minor": 5
}
